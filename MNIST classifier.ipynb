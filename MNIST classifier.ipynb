{
 "cells": [
  {
   "cell_type": "code",
   "execution_count": 1,
   "id": "9a82d04a",
   "metadata": {
    "scrolled": true
   },
   "outputs": [],
   "source": [
    "import torch\n",
    "import torchvision"
   ]
  },
  {
   "cell_type": "code",
   "execution_count": 2,
   "id": "5007a170",
   "metadata": {},
   "outputs": [
    {
     "data": {
      "text/plain": [
       "<torch._C.Generator at 0x1f3b0a7b610>"
      ]
     },
     "execution_count": 2,
     "metadata": {},
     "output_type": "execute_result"
    }
   ],
   "source": [
    "n_epochs = 3\n",
    "batch_size_train = 64\n",
    "batch_size_test = 1000\n",
    "learning_rate = 0.01\n",
    "momentum = 0.5\n",
    "log_interval = 10\n",
    "\n",
    "random_seed = 1\n",
    "torch.backends.cudnn.enabled = False\n",
    "torch.manual_seed(random_seed)"
   ]
  },
  {
   "cell_type": "code",
   "execution_count": 3,
   "id": "edf4a5e1",
   "metadata": {},
   "outputs": [
    {
     "name": "stdout",
     "output_type": "stream",
     "text": [
      "Downloading http://yann.lecun.com/exdb/mnist/train-images-idx3-ubyte.gz\n",
      "Downloading http://yann.lecun.com/exdb/mnist/train-images-idx3-ubyte.gz to /files/MNIST\\raw\\train-images-idx3-ubyte.gz\n"
     ]
    },
    {
     "data": {
      "application/vnd.jupyter.widget-view+json": {
       "model_id": "42d3a4c178184ea58bc8d529135f151f",
       "version_major": 2,
       "version_minor": 0
      },
      "text/plain": [
       "  0%|          | 0/9912422 [00:00<?, ?it/s]"
      ]
     },
     "metadata": {},
     "output_type": "display_data"
    },
    {
     "name": "stdout",
     "output_type": "stream",
     "text": [
      "Extracting /files/MNIST\\raw\\train-images-idx3-ubyte.gz to /files/MNIST\\raw\n",
      "\n",
      "Downloading http://yann.lecun.com/exdb/mnist/train-labels-idx1-ubyte.gz\n",
      "Downloading http://yann.lecun.com/exdb/mnist/train-labels-idx1-ubyte.gz to /files/MNIST\\raw\\train-labels-idx1-ubyte.gz\n"
     ]
    },
    {
     "data": {
      "application/vnd.jupyter.widget-view+json": {
       "model_id": "b0c04a2c6aca4cb49497186a31be16f7",
       "version_major": 2,
       "version_minor": 0
      },
      "text/plain": [
       "  0%|          | 0/28881 [00:00<?, ?it/s]"
      ]
     },
     "metadata": {},
     "output_type": "display_data"
    },
    {
     "name": "stdout",
     "output_type": "stream",
     "text": [
      "Extracting /files/MNIST\\raw\\train-labels-idx1-ubyte.gz to /files/MNIST\\raw\n",
      "\n",
      "Downloading http://yann.lecun.com/exdb/mnist/t10k-images-idx3-ubyte.gz\n",
      "Downloading http://yann.lecun.com/exdb/mnist/t10k-images-idx3-ubyte.gz to /files/MNIST\\raw\\t10k-images-idx3-ubyte.gz\n"
     ]
    },
    {
     "data": {
      "application/vnd.jupyter.widget-view+json": {
       "model_id": "eb2ad7779dd2490184b945e016218264",
       "version_major": 2,
       "version_minor": 0
      },
      "text/plain": [
       "  0%|          | 0/1648877 [00:00<?, ?it/s]"
      ]
     },
     "metadata": {},
     "output_type": "display_data"
    },
    {
     "name": "stdout",
     "output_type": "stream",
     "text": [
      "Extracting /files/MNIST\\raw\\t10k-images-idx3-ubyte.gz to /files/MNIST\\raw\n",
      "\n",
      "Downloading http://yann.lecun.com/exdb/mnist/t10k-labels-idx1-ubyte.gz\n",
      "Downloading http://yann.lecun.com/exdb/mnist/t10k-labels-idx1-ubyte.gz to /files/MNIST\\raw\\t10k-labels-idx1-ubyte.gz\n"
     ]
    },
    {
     "data": {
      "application/vnd.jupyter.widget-view+json": {
       "model_id": "8f57332cf6b44cc89e5ac8b007ad38e2",
       "version_major": 2,
       "version_minor": 0
      },
      "text/plain": [
       "  0%|          | 0/4542 [00:00<?, ?it/s]"
      ]
     },
     "metadata": {},
     "output_type": "display_data"
    },
    {
     "name": "stdout",
     "output_type": "stream",
     "text": [
      "Extracting /files/MNIST\\raw\\t10k-labels-idx1-ubyte.gz to /files/MNIST\\raw\n",
      "\n"
     ]
    }
   ],
   "source": [
    "train_loader = torch.utils.data.DataLoader(\n",
    "  torchvision.datasets.MNIST('/files/', train=True, download=True,\n",
    "                             transform=torchvision.transforms.Compose([\n",
    "                               torchvision.transforms.ToTensor(),\n",
    "                               torchvision.transforms.Normalize(\n",
    "                                 (0.1307,), (0.3081,))\n",
    "                             ])),\n",
    "  batch_size=batch_size_train, shuffle=True)\n",
    "\n",
    "test_loader = torch.utils.data.DataLoader(\n",
    "  torchvision.datasets.MNIST('/files/', train=False, download=True,\n",
    "                             transform=torchvision.transforms.Compose([\n",
    "                               torchvision.transforms.ToTensor(),\n",
    "                               torchvision.transforms.Normalize(\n",
    "                                 (0.1307,), (0.3081,))\n",
    "                             ])),\n",
    "  batch_size=batch_size_test, shuffle=True)"
   ]
  },
  {
   "cell_type": "code",
   "execution_count": 4,
   "id": "6a036410",
   "metadata": {},
   "outputs": [],
   "source": [
    "examples = enumerate(test_loader)\n",
    "batch_idx, (example_data, example_targets) = next(examples)"
   ]
  },
  {
   "cell_type": "code",
   "execution_count": 5,
   "id": "385f0e90",
   "metadata": {},
   "outputs": [
    {
     "data": {
      "text/plain": [
       "torch.Size([1000, 1, 28, 28])"
      ]
     },
     "execution_count": 5,
     "metadata": {},
     "output_type": "execute_result"
    }
   ],
   "source": [
    "example_data.shape"
   ]
  },
  {
   "cell_type": "code",
   "execution_count": 8,
   "id": "10352930",
   "metadata": {
    "scrolled": false
   },
   "outputs": [
    {
     "data": {
      "image/png": "[encoded data removed]",
      "text/plain": [
       "<Figure size 432x288 with 6 Axes>"
      ]
     },
     "execution_count": 8,
     "metadata": {},
     "output_type": "execute_result"
    },
    {
     "data": {
      "image/png": "[encoded data removed]",
      "text/plain": [
       "<Figure size 432x288 with 6 Axes>"
      ]
     },
     "metadata": {},
     "output_type": "display_data"
    }
   ],
   "source": [
    "import matplotlib.pyplot as plt\n",
    "\n",
    "fig = plt.figure()\n",
    "for i in range(6):\n",
    "  plt.subplot(2,3,i+1)\n",
    "  plt.tight_layout()\n",
    "  plt.imshow(example_data[i][0], cmap='gray', interpolation='none')\n",
    "  plt.title(\"Ground Truth: {}\".format(example_targets[i]))\n",
    "  plt.xticks([])\n",
    "  plt.yticks([])\n",
    "fig"
   ]
  },
  {
   "cell_type": "markdown",
   "id": "ba82d960",
   "metadata": {},
   "source": [
    "### Build network"
   ]
  },
  {
   "cell_type": "code",
   "execution_count": 7,
   "id": "b6246693",
   "metadata": {},
   "outputs": [],
   "source": [
    "import torch.nn as nn\n",
    "import torch.nn.functional as F\n",
    "import torch.optim as optim"
   ]
  },
  {
   "cell_type": "code",
   "execution_count": 9,
   "id": "2676a355",
   "metadata": {},
   "outputs": [],
   "source": [
    "class Net(nn.Module):\n",
    "    def __init__(self):\n",
    "        super(Net, self).__init__()\n",
    "        self.conv1 = nn.Conv2d(1, 10, kernel_size=5)\n",
    "        self.conv2 = nn.Conv2d(10, 20, kernel_size=5)\n",
    "        self.conv2_drop = nn.Dropout2d()\n",
    "        self.fc1 = nn.Linear(320, 50)\n",
    "        self.fc2 = nn.Linear(50, 10)\n",
    "\n",
    "    def forward(self, x):\n",
    "        x = F.relu(F.max_pool2d(self.conv1(x), 2))\n",
    "        x = F.relu(F.max_pool2d(self.conv2_drop(self.conv2(x)), 2))\n",
    "        x = x.view(-1, 320)\n",
    "        x = F.relu(self.fc1(x))\n",
    "        x = F.dropout(x, training=self.training)\n",
    "        x = self.fc2(x)\n",
    "        return F.log_softmax(x)"
   ]
  },
  {
   "cell_type": "code",
   "execution_count": 10,
   "id": "56b4867c",
   "metadata": {},
   "outputs": [],
   "source": [
    "network = Net()\n",
    "optimizer = optim.SGD(network.parameters(), lr=learning_rate,\n",
    "                      momentum=momentum)"
   ]
  },
  {
   "cell_type": "code",
   "execution_count": 11,
   "id": "9de4eeee",
   "metadata": {},
   "outputs": [],
   "source": [
    "train_losses = []\n",
    "train_counter = []\n",
    "test_losses = []\n",
    "test_counter = [i*len(train_loader.dataset) for i in range(n_epochs + 1)]"
   ]
  },
  {
   "cell_type": "code",
   "execution_count": 12,
   "id": "7ab629bc",
   "metadata": {},
   "outputs": [],
   "source": [
    "def train(epoch):\n",
    "  network.train()\n",
    "  for batch_idx, (data, target) in enumerate(train_loader):\n",
    "    optimizer.zero_grad()\n",
    "    output = network(data)\n",
    "    loss = F.nll_loss(output, target)\n",
    "    loss.backward()\n",
    "    optimizer.step()\n",
    "    if batch_idx % log_interval == 0:\n",
    "      print('Train Epoch: {} [{}/{} ({:.0f}%)]\\tLoss: {:.6f}'.format(\n",
    "        epoch, batch_idx * len(data), len(train_loader.dataset),\n",
    "        100. * batch_idx / len(train_loader), loss.item()))\n",
    "      train_losses.append(loss.item())\n",
    "      train_counter.append(\n",
    "        (batch_idx*64) + ((epoch-1)*len(train_loader.dataset)))\n",
    "      torch.save(network.state_dict(), './Results/model.pth')\n",
    "      torch.save(optimizer.state_dict(), './Results/optimizer.pth')"
   ]
  },
  {
   "cell_type": "code",
   "execution_count": 13,
   "id": "0ffb8517",
   "metadata": {},
   "outputs": [],
   "source": [
    "def test():\n",
    "  network.eval()\n",
    "  test_loss = 0\n",
    "  correct = 0\n",
    "  with torch.no_grad():\n",
    "    for data, target in test_loader:\n",
    "      output = network(data)\n",
    "      test_loss += F.nll_loss(output, target, size_average=False).item()\n",
    "      pred = output.data.max(1, keepdim=True)[1]\n",
    "      correct += pred.eq(target.data.view_as(pred)).sum()\n",
    "  test_loss /= len(test_loader.dataset)\n",
    "  test_losses.append(test_loss)\n",
    "  print('\\nTest set: Avg. loss: {:.4f}, Accuracy: {}/{} ({:.0f}%)\\n'.format(\n",
    "    test_loss, correct, len(test_loader.dataset),\n",
    "    100. * correct / len(test_loader.dataset)))"
   ]
  },
  {
   "cell_type": "code",
   "execution_count": 15,
   "id": "563bca6f",
   "metadata": {},
   "outputs": [
    {
     "name": "stderr",
     "output_type": "stream",
     "text": [
      "C:\\Users\\84592\\AppData\\Local\\Temp\\ipykernel_13788\\161431047.py:17: UserWarning: Implicit dimension choice for log_softmax has been deprecated. Change the call to include dim=X as an argument.\n",
      "  return F.log_softmax(x)\n"
     ]
    },
    {
     "name": "stdout",
     "output_type": "stream",
     "text": [
      "\n",
      "Test set: Avg. loss: 2.3084, Accuracy: 923/10000 (9%)\n",
      "\n",
      "Train Epoch: 1 [0/60000 (0%)]\tLoss: 2.324247\n",
      "Train Epoch: 1 [640/60000 (1%)]\tLoss: 2.273413\n",
      "Train Epoch: 1 [1280/60000 (2%)]\tLoss: 2.252027\n",
      "Train Epoch: 1 [1920/60000 (3%)]\tLoss: 2.279411\n",
      "Train Epoch: 1 [2560/60000 (4%)]\tLoss: 2.259859\n",
      "Train Epoch: 1 [3200/60000 (5%)]\tLoss: 2.255871\n",
      "Train Epoch: 1 [3840/60000 (6%)]\tLoss: 2.175713\n",
      "Train Epoch: 1 [4480/60000 (7%)]\tLoss: 2.212805\n",
      "Train Epoch: 1 [5120/60000 (9%)]\tLoss: 2.093185\n",
      "Train Epoch: 1 [5760/60000 (10%)]\tLoss: 2.029723\n",
      "Train Epoch: 1 [6400/60000 (11%)]\tLoss: 1.901314\n",
      "Train Epoch: 1 [7040/60000 (12%)]\tLoss: 1.907668\n",
      "Train Epoch: 1 [7680/60000 (13%)]\tLoss: 1.777701\n",
      "Train Epoch: 1 [8320/60000 (14%)]\tLoss: 1.564114\n",
      "Train Epoch: 1 [8960/60000 (15%)]\tLoss: 1.369018\n",
      "Train Epoch: 1 [9600/60000 (16%)]\tLoss: 1.345432\n",
      "Train Epoch: 1 [10240/60000 (17%)]\tLoss: 1.406255\n",
      "Train Epoch: 1 [10880/60000 (18%)]\tLoss: 1.167964\n",
      "Train Epoch: 1 [11520/60000 (19%)]\tLoss: 1.430185\n",
      "Train Epoch: 1 [12160/60000 (20%)]\tLoss: 1.225760\n",
      "Train Epoch: 1 [12800/60000 (21%)]\tLoss: 1.081967\n",
      "Train Epoch: 1 [13440/60000 (22%)]\tLoss: 1.058360\n",
      "Train Epoch: 1 [14080/60000 (23%)]\tLoss: 1.321690\n",
      "Train Epoch: 1 [14720/60000 (25%)]\tLoss: 1.097609\n",
      "Train Epoch: 1 [15360/60000 (26%)]\tLoss: 0.977902\n",
      "Train Epoch: 1 [16000/60000 (27%)]\tLoss: 0.992847\n",
      "Train Epoch: 1 [16640/60000 (28%)]\tLoss: 1.209337\n",
      "Train Epoch: 1 [17280/60000 (29%)]\tLoss: 0.873801\n",
      "Train Epoch: 1 [17920/60000 (30%)]\tLoss: 0.950033\n",
      "Train Epoch: 1 [18560/60000 (31%)]\tLoss: 0.862424\n",
      "Train Epoch: 1 [19200/60000 (32%)]\tLoss: 0.792635\n",
      "Train Epoch: 1 [19840/60000 (33%)]\tLoss: 0.715658\n",
      "Train Epoch: 1 [20480/60000 (34%)]\tLoss: 0.928717\n",
      "Train Epoch: 1 [21120/60000 (35%)]\tLoss: 0.729515\n",
      "Train Epoch: 1 [21760/60000 (36%)]\tLoss: 0.685234\n",
      "Train Epoch: 1 [22400/60000 (37%)]\tLoss: 0.759988\n",
      "Train Epoch: 1 [23040/60000 (38%)]\tLoss: 0.570016\n",
      "Train Epoch: 1 [23680/60000 (39%)]\tLoss: 0.728797\n",
      "Train Epoch: 1 [24320/60000 (41%)]\tLoss: 0.759778\n",
      "Train Epoch: 1 [24960/60000 (42%)]\tLoss: 0.772270\n",
      "Train Epoch: 1 [25600/60000 (43%)]\tLoss: 0.663714\n",
      "Train Epoch: 1 [26240/60000 (44%)]\tLoss: 0.526203\n",
      "Train Epoch: 1 [26880/60000 (45%)]\tLoss: 0.531012\n",
      "Train Epoch: 1 [27520/60000 (46%)]\tLoss: 0.447924\n",
      "Train Epoch: 1 [28160/60000 (47%)]\tLoss: 0.712237\n",
      "Train Epoch: 1 [28800/60000 (48%)]\tLoss: 0.615754\n",
      "Train Epoch: 1 [29440/60000 (49%)]\tLoss: 0.585283\n",
      "Train Epoch: 1 [30080/60000 (50%)]\tLoss: 0.468361\n",
      "Train Epoch: 1 [30720/60000 (51%)]\tLoss: 0.722397\n",
      "Train Epoch: 1 [31360/60000 (52%)]\tLoss: 0.602414\n",
      "Train Epoch: 1 [32000/60000 (53%)]\tLoss: 0.471987\n",
      "Train Epoch: 1 [32640/60000 (54%)]\tLoss: 0.794990\n",
      "Train Epoch: 1 [33280/60000 (55%)]\tLoss: 0.558112\n",
      "Train Epoch: 1 [33920/60000 (57%)]\tLoss: 0.795298\n",
      "Train Epoch: 1 [34560/60000 (58%)]\tLoss: 0.709552\n",
      "Train Epoch: 1 [35200/60000 (59%)]\tLoss: 0.472709\n",
      "Train Epoch: 1 [35840/60000 (60%)]\tLoss: 0.901651\n",
      "Train Epoch: 1 [36480/60000 (61%)]\tLoss: 0.552915\n",
      "Train Epoch: 1 [37120/60000 (62%)]\tLoss: 0.272507\n",
      "Train Epoch: 1 [37760/60000 (63%)]\tLoss: 0.425919\n",
      "Train Epoch: 1 [38400/60000 (64%)]\tLoss: 0.779866\n",
      "Train Epoch: 1 [39040/60000 (65%)]\tLoss: 0.726821\n",
      "Train Epoch: 1 [39680/60000 (66%)]\tLoss: 0.759202\n",
      "Train Epoch: 1 [40320/60000 (67%)]\tLoss: 0.657275\n",
      "Train Epoch: 1 [40960/60000 (68%)]\tLoss: 0.749920\n",
      "Train Epoch: 1 [41600/60000 (69%)]\tLoss: 0.498351\n",
      "Train Epoch: 1 [42240/60000 (70%)]\tLoss: 0.669083\n",
      "Train Epoch: 1 [42880/60000 (71%)]\tLoss: 0.330633\n",
      "Train Epoch: 1 [43520/60000 (72%)]\tLoss: 0.499480\n",
      "Train Epoch: 1 [44160/60000 (74%)]\tLoss: 0.826909\n",
      "Train Epoch: 1 [44800/60000 (75%)]\tLoss: 0.524121\n",
      "Train Epoch: 1 [45440/60000 (76%)]\tLoss: 0.484090\n",
      "Train Epoch: 1 [46080/60000 (77%)]\tLoss: 0.469514\n",
      "Train Epoch: 1 [46720/60000 (78%)]\tLoss: 0.553126\n",
      "Train Epoch: 1 [47360/60000 (79%)]\tLoss: 0.513156\n",
      "Train Epoch: 1 [48000/60000 (80%)]\tLoss: 0.574474\n",
      "Train Epoch: 1 [48640/60000 (81%)]\tLoss: 0.903664\n",
      "Train Epoch: 1 [49280/60000 (82%)]\tLoss: 0.550710\n",
      "Train Epoch: 1 [49920/60000 (83%)]\tLoss: 0.512051\n",
      "Train Epoch: 1 [50560/60000 (84%)]\tLoss: 0.517439\n",
      "Train Epoch: 1 [51200/60000 (85%)]\tLoss: 0.675059\n",
      "Train Epoch: 1 [51840/60000 (86%)]\tLoss: 0.775984\n",
      "Train Epoch: 1 [52480/60000 (87%)]\tLoss: 0.565426\n",
      "Train Epoch: 1 [53120/60000 (88%)]\tLoss: 0.499880\n",
      "Train Epoch: 1 [53760/60000 (90%)]\tLoss: 0.623148\n",
      "Train Epoch: 1 [54400/60000 (91%)]\tLoss: 0.338268\n",
      "Train Epoch: 1 [55040/60000 (92%)]\tLoss: 0.494315\n",
      "Train Epoch: 1 [55680/60000 (93%)]\tLoss: 0.717263\n",
      "Train Epoch: 1 [56320/60000 (94%)]\tLoss: 0.530226\n",
      "Train Epoch: 1 [56960/60000 (95%)]\tLoss: 0.476721\n",
      "Train Epoch: 1 [57600/60000 (96%)]\tLoss: 0.329721\n",
      "Train Epoch: 1 [58240/60000 (97%)]\tLoss: 0.435622\n",
      "Train Epoch: 1 [58880/60000 (98%)]\tLoss: 0.390444\n",
      "Train Epoch: 1 [59520/60000 (99%)]\tLoss: 0.575804\n",
      "\n",
      "Test set: Avg. loss: 0.1853, Accuracy: 9465/10000 (95%)\n",
      "\n",
      "Train Epoch: 2 [0/60000 (0%)]\tLoss: 0.384092\n",
      "Train Epoch: 2 [640/60000 (1%)]\tLoss: 0.594569\n",
      "Train Epoch: 2 [1280/60000 (2%)]\tLoss: 0.422791\n",
      "Train Epoch: 2 [1920/60000 (3%)]\tLoss: 0.358075\n",
      "Train Epoch: 2 [2560/60000 (4%)]\tLoss: 0.666102\n",
      "Train Epoch: 2 [3200/60000 (5%)]\tLoss: 0.531914\n",
      "Train Epoch: 2 [3840/60000 (6%)]\tLoss: 0.564805\n",
      "Train Epoch: 2 [4480/60000 (7%)]\tLoss: 0.454834\n",
      "Train Epoch: 2 [5120/60000 (9%)]\tLoss: 0.474655\n",
      "Train Epoch: 2 [5760/60000 (10%)]\tLoss: 0.354319\n",
      "Train Epoch: 2 [6400/60000 (11%)]\tLoss: 0.346725\n",
      "Train Epoch: 2 [7040/60000 (12%)]\tLoss: 0.543634\n",
      "Train Epoch: 2 [7680/60000 (13%)]\tLoss: 0.379305\n",
      "Train Epoch: 2 [8320/60000 (14%)]\tLoss: 0.502326\n",
      "Train Epoch: 2 [8960/60000 (15%)]\tLoss: 0.243725\n",
      "Train Epoch: 2 [9600/60000 (16%)]\tLoss: 0.515621\n",
      "Train Epoch: 2 [10240/60000 (17%)]\tLoss: 0.507433\n",
      "Train Epoch: 2 [10880/60000 (18%)]\tLoss: 0.222496\n",
      "Train Epoch: 2 [11520/60000 (19%)]\tLoss: 0.335198\n",
      "Train Epoch: 2 [12160/60000 (20%)]\tLoss: 0.447199\n",
      "Train Epoch: 2 [12800/60000 (21%)]\tLoss: 0.563191\n",
      "Train Epoch: 2 [13440/60000 (22%)]\tLoss: 0.514217\n",
      "Train Epoch: 2 [14080/60000 (23%)]\tLoss: 0.411644\n",
      "Train Epoch: 2 [14720/60000 (25%)]\tLoss: 0.353808\n",
      "Train Epoch: 2 [15360/60000 (26%)]\tLoss: 0.628863\n",
      "Train Epoch: 2 [16000/60000 (27%)]\tLoss: 0.303310\n",
      "Train Epoch: 2 [16640/60000 (28%)]\tLoss: 0.356942\n",
      "Train Epoch: 2 [17280/60000 (29%)]\tLoss: 0.232999\n",
      "Train Epoch: 2 [17920/60000 (30%)]\tLoss: 0.227700\n",
      "Train Epoch: 2 [18560/60000 (31%)]\tLoss: 0.353889\n",
      "Train Epoch: 2 [19200/60000 (32%)]\tLoss: 0.390620\n",
      "Train Epoch: 2 [19840/60000 (33%)]\tLoss: 0.236612\n",
      "Train Epoch: 2 [20480/60000 (34%)]\tLoss: 0.227945\n",
      "Train Epoch: 2 [21120/60000 (35%)]\tLoss: 0.587972\n",
      "Train Epoch: 2 [21760/60000 (36%)]\tLoss: 0.294321\n",
      "Train Epoch: 2 [22400/60000 (37%)]\tLoss: 0.251190\n",
      "Train Epoch: 2 [23040/60000 (38%)]\tLoss: 0.594567\n",
      "Train Epoch: 2 [23680/60000 (39%)]\tLoss: 0.387987\n",
      "Train Epoch: 2 [24320/60000 (41%)]\tLoss: 0.213470\n",
      "Train Epoch: 2 [24960/60000 (42%)]\tLoss: 0.456497\n",
      "Train Epoch: 2 [25600/60000 (43%)]\tLoss: 0.361839\n",
      "Train Epoch: 2 [26240/60000 (44%)]\tLoss: 0.529457\n",
      "Train Epoch: 2 [26880/60000 (45%)]\tLoss: 0.565005\n",
      "Train Epoch: 2 [27520/60000 (46%)]\tLoss: 0.389353\n",
      "Train Epoch: 2 [28160/60000 (47%)]\tLoss: 0.558364\n",
      "Train Epoch: 2 [28800/60000 (48%)]\tLoss: 0.507458\n",
      "Train Epoch: 2 [29440/60000 (49%)]\tLoss: 0.182250\n",
      "Train Epoch: 2 [30080/60000 (50%)]\tLoss: 0.260720\n",
      "Train Epoch: 2 [30720/60000 (51%)]\tLoss: 0.296121\n",
      "Train Epoch: 2 [31360/60000 (52%)]\tLoss: 0.343027\n",
      "Train Epoch: 2 [32000/60000 (53%)]\tLoss: 0.279557\n",
      "Train Epoch: 2 [32640/60000 (54%)]\tLoss: 0.513066\n",
      "Train Epoch: 2 [33280/60000 (55%)]\tLoss: 0.343000\n",
      "Train Epoch: 2 [33920/60000 (57%)]\tLoss: 0.481571\n",
      "Train Epoch: 2 [34560/60000 (58%)]\tLoss: 0.234183\n",
      "Train Epoch: 2 [35200/60000 (59%)]\tLoss: 0.314094\n",
      "Train Epoch: 2 [35840/60000 (60%)]\tLoss: 0.234261\n",
      "Train Epoch: 2 [36480/60000 (61%)]\tLoss: 0.329415\n",
      "Train Epoch: 2 [37120/60000 (62%)]\tLoss: 0.257921\n",
      "Train Epoch: 2 [37760/60000 (63%)]\tLoss: 0.442387\n",
      "Train Epoch: 2 [38400/60000 (64%)]\tLoss: 0.185601\n",
      "Train Epoch: 2 [39040/60000 (65%)]\tLoss: 0.326365\n",
      "Train Epoch: 2 [39680/60000 (66%)]\tLoss: 0.332056\n",
      "Train Epoch: 2 [40320/60000 (67%)]\tLoss: 0.353460\n",
      "Train Epoch: 2 [40960/60000 (68%)]\tLoss: 0.188446\n",
      "Train Epoch: 2 [41600/60000 (69%)]\tLoss: 0.288346\n",
      "Train Epoch: 2 [42240/60000 (70%)]\tLoss: 0.372695\n",
      "Train Epoch: 2 [42880/60000 (71%)]\tLoss: 0.349254\n",
      "Train Epoch: 2 [43520/60000 (72%)]\tLoss: 0.459846\n",
      "Train Epoch: 2 [44160/60000 (74%)]\tLoss: 0.260241\n"
     ]
    },
    {
     "name": "stdout",
     "output_type": "stream",
     "text": [
      "Train Epoch: 2 [44800/60000 (75%)]\tLoss: 0.414616\n",
      "Train Epoch: 2 [45440/60000 (76%)]\tLoss: 0.317871\n",
      "Train Epoch: 2 [46080/60000 (77%)]\tLoss: 0.302098\n",
      "Train Epoch: 2 [46720/60000 (78%)]\tLoss: 0.333958\n",
      "Train Epoch: 2 [47360/60000 (79%)]\tLoss: 0.159612\n",
      "Train Epoch: 2 [48000/60000 (80%)]\tLoss: 0.202387\n",
      "Train Epoch: 2 [48640/60000 (81%)]\tLoss: 0.411621\n",
      "Train Epoch: 2 [49280/60000 (82%)]\tLoss: 0.480781\n",
      "Train Epoch: 2 [49920/60000 (83%)]\tLoss: 0.240317\n",
      "Train Epoch: 2 [50560/60000 (84%)]\tLoss: 0.363802\n",
      "Train Epoch: 2 [51200/60000 (85%)]\tLoss: 0.272436\n",
      "Train Epoch: 2 [51840/60000 (86%)]\tLoss: 0.258459\n",
      "Train Epoch: 2 [52480/60000 (87%)]\tLoss: 0.152878\n",
      "Train Epoch: 2 [53120/60000 (88%)]\tLoss: 0.268950\n",
      "Train Epoch: 2 [53760/60000 (90%)]\tLoss: 0.382120\n",
      "Train Epoch: 2 [54400/60000 (91%)]\tLoss: 0.496158\n",
      "Train Epoch: 2 [55040/60000 (92%)]\tLoss: 0.313970\n",
      "Train Epoch: 2 [55680/60000 (93%)]\tLoss: 0.337842\n",
      "Train Epoch: 2 [56320/60000 (94%)]\tLoss: 0.300722\n",
      "Train Epoch: 2 [56960/60000 (95%)]\tLoss: 0.300054\n",
      "Train Epoch: 2 [57600/60000 (96%)]\tLoss: 0.537167\n",
      "Train Epoch: 2 [58240/60000 (97%)]\tLoss: 0.429372\n",
      "Train Epoch: 2 [58880/60000 (98%)]\tLoss: 0.512334\n",
      "Train Epoch: 2 [59520/60000 (99%)]\tLoss: 0.327187\n",
      "\n",
      "Test set: Avg. loss: 0.1187, Accuracy: 9650/10000 (96%)\n",
      "\n",
      "Train Epoch: 3 [0/60000 (0%)]\tLoss: 0.234671\n",
      "Train Epoch: 3 [640/60000 (1%)]\tLoss: 0.382615\n",
      "Train Epoch: 3 [1280/60000 (2%)]\tLoss: 0.380291\n",
      "Train Epoch: 3 [1920/60000 (3%)]\tLoss: 0.382336\n",
      "Train Epoch: 3 [2560/60000 (4%)]\tLoss: 0.449757\n",
      "Train Epoch: 3 [3200/60000 (5%)]\tLoss: 0.331985\n",
      "Train Epoch: 3 [3840/60000 (6%)]\tLoss: 0.338430\n",
      "Train Epoch: 3 [4480/60000 (7%)]\tLoss: 0.274575\n",
      "Train Epoch: 3 [5120/60000 (9%)]\tLoss: 0.335484\n",
      "Train Epoch: 3 [5760/60000 (10%)]\tLoss: 0.478892\n",
      "Train Epoch: 3 [6400/60000 (11%)]\tLoss: 0.226942\n",
      "Train Epoch: 3 [7040/60000 (12%)]\tLoss: 0.299994\n",
      "Train Epoch: 3 [7680/60000 (13%)]\tLoss: 0.252651\n",
      "Train Epoch: 3 [8320/60000 (14%)]\tLoss: 0.257339\n",
      "Train Epoch: 3 [8960/60000 (15%)]\tLoss: 0.233354\n",
      "Train Epoch: 3 [9600/60000 (16%)]\tLoss: 0.275658\n",
      "Train Epoch: 3 [10240/60000 (17%)]\tLoss: 0.261957\n",
      "Train Epoch: 3 [10880/60000 (18%)]\tLoss: 0.509647\n",
      "Train Epoch: 3 [11520/60000 (19%)]\tLoss: 0.356344\n",
      "Train Epoch: 3 [12160/60000 (20%)]\tLoss: 0.394630\n",
      "Train Epoch: 3 [12800/60000 (21%)]\tLoss: 0.298544\n",
      "Train Epoch: 3 [13440/60000 (22%)]\tLoss: 0.263253\n",
      "Train Epoch: 3 [14080/60000 (23%)]\tLoss: 0.341134\n",
      "Train Epoch: 3 [14720/60000 (25%)]\tLoss: 0.260067\n",
      "Train Epoch: 3 [15360/60000 (26%)]\tLoss: 0.343674\n",
      "Train Epoch: 3 [16000/60000 (27%)]\tLoss: 0.276632\n",
      "Train Epoch: 3 [16640/60000 (28%)]\tLoss: 0.342449\n",
      "Train Epoch: 3 [17280/60000 (29%)]\tLoss: 0.382047\n",
      "Train Epoch: 3 [17920/60000 (30%)]\tLoss: 0.201640\n",
      "Train Epoch: 3 [18560/60000 (31%)]\tLoss: 0.324849\n",
      "Train Epoch: 3 [19200/60000 (32%)]\tLoss: 0.265864\n",
      "Train Epoch: 3 [19840/60000 (33%)]\tLoss: 0.189896\n",
      "Train Epoch: 3 [20480/60000 (34%)]\tLoss: 0.282902\n",
      "Train Epoch: 3 [21120/60000 (35%)]\tLoss: 0.288133\n",
      "Train Epoch: 3 [21760/60000 (36%)]\tLoss: 0.348146\n",
      "Train Epoch: 3 [22400/60000 (37%)]\tLoss: 0.400531\n",
      "Train Epoch: 3 [23040/60000 (38%)]\tLoss: 0.322931\n",
      "Train Epoch: 3 [23680/60000 (39%)]\tLoss: 0.389189\n",
      "Train Epoch: 3 [24320/60000 (41%)]\tLoss: 0.213674\n",
      "Train Epoch: 3 [24960/60000 (42%)]\tLoss: 0.273239\n",
      "Train Epoch: 3 [25600/60000 (43%)]\tLoss: 0.154107\n",
      "Train Epoch: 3 [26240/60000 (44%)]\tLoss: 0.505239\n",
      "Train Epoch: 3 [26880/60000 (45%)]\tLoss: 0.366143\n",
      "Train Epoch: 3 [27520/60000 (46%)]\tLoss: 0.241152\n",
      "Train Epoch: 3 [28160/60000 (47%)]\tLoss: 0.255608\n",
      "Train Epoch: 3 [28800/60000 (48%)]\tLoss: 0.340092\n",
      "Train Epoch: 3 [29440/60000 (49%)]\tLoss: 0.328447\n",
      "Train Epoch: 3 [30080/60000 (50%)]\tLoss: 0.259592\n",
      "Train Epoch: 3 [30720/60000 (51%)]\tLoss: 0.277940\n",
      "Train Epoch: 3 [31360/60000 (52%)]\tLoss: 0.208003\n",
      "Train Epoch: 3 [32000/60000 (53%)]\tLoss: 0.475881\n",
      "Train Epoch: 3 [32640/60000 (54%)]\tLoss: 0.642902\n",
      "Train Epoch: 3 [33280/60000 (55%)]\tLoss: 0.202693\n",
      "Train Epoch: 3 [33920/60000 (57%)]\tLoss: 0.256540\n",
      "Train Epoch: 3 [34560/60000 (58%)]\tLoss: 0.322940\n",
      "Train Epoch: 3 [35200/60000 (59%)]\tLoss: 0.372305\n",
      "Train Epoch: 3 [35840/60000 (60%)]\tLoss: 0.210751\n",
      "Train Epoch: 3 [36480/60000 (61%)]\tLoss: 0.349118\n",
      "Train Epoch: 3 [37120/60000 (62%)]\tLoss: 0.251623\n",
      "Train Epoch: 3 [37760/60000 (63%)]\tLoss: 0.456762\n",
      "Train Epoch: 3 [38400/60000 (64%)]\tLoss: 0.438806\n",
      "Train Epoch: 3 [39040/60000 (65%)]\tLoss: 0.283617\n",
      "Train Epoch: 3 [39680/60000 (66%)]\tLoss: 0.419908\n",
      "Train Epoch: 3 [40320/60000 (67%)]\tLoss: 0.377358\n",
      "Train Epoch: 3 [40960/60000 (68%)]\tLoss: 0.250667\n",
      "Train Epoch: 3 [41600/60000 (69%)]\tLoss: 0.239513\n",
      "Train Epoch: 3 [42240/60000 (70%)]\tLoss: 0.273069\n",
      "Train Epoch: 3 [42880/60000 (71%)]\tLoss: 0.259414\n",
      "Train Epoch: 3 [43520/60000 (72%)]\tLoss: 0.406133\n",
      "Train Epoch: 3 [44160/60000 (74%)]\tLoss: 0.221130\n",
      "Train Epoch: 3 [44800/60000 (75%)]\tLoss: 0.418653\n",
      "Train Epoch: 3 [45440/60000 (76%)]\tLoss: 0.227855\n",
      "Train Epoch: 3 [46080/60000 (77%)]\tLoss: 0.256843\n",
      "Train Epoch: 3 [46720/60000 (78%)]\tLoss: 0.302193\n",
      "Train Epoch: 3 [47360/60000 (79%)]\tLoss: 0.421029\n",
      "Train Epoch: 3 [48000/60000 (80%)]\tLoss: 0.343887\n",
      "Train Epoch: 3 [48640/60000 (81%)]\tLoss: 0.323428\n",
      "Train Epoch: 3 [49280/60000 (82%)]\tLoss: 0.479009\n",
      "Train Epoch: 3 [49920/60000 (83%)]\tLoss: 0.476628\n",
      "Train Epoch: 3 [50560/60000 (84%)]\tLoss: 0.201719\n",
      "Train Epoch: 3 [51200/60000 (85%)]\tLoss: 0.432192\n",
      "Train Epoch: 3 [51840/60000 (86%)]\tLoss: 0.194923\n",
      "Train Epoch: 3 [52480/60000 (87%)]\tLoss: 0.304229\n",
      "Train Epoch: 3 [53120/60000 (88%)]\tLoss: 0.215965\n",
      "Train Epoch: 3 [53760/60000 (90%)]\tLoss: 0.143023\n",
      "Train Epoch: 3 [54400/60000 (91%)]\tLoss: 0.311043\n",
      "Train Epoch: 3 [55040/60000 (92%)]\tLoss: 0.271475\n",
      "Train Epoch: 3 [55680/60000 (93%)]\tLoss: 0.343559\n",
      "Train Epoch: 3 [56320/60000 (94%)]\tLoss: 0.492258\n",
      "Train Epoch: 3 [56960/60000 (95%)]\tLoss: 0.258701\n",
      "Train Epoch: 3 [57600/60000 (96%)]\tLoss: 0.241576\n",
      "Train Epoch: 3 [58240/60000 (97%)]\tLoss: 0.268885\n",
      "Train Epoch: 3 [58880/60000 (98%)]\tLoss: 0.435483\n",
      "Train Epoch: 3 [59520/60000 (99%)]\tLoss: 0.415397\n",
      "\n",
      "Test set: Avg. loss: 0.0969, Accuracy: 9706/10000 (97%)\n",
      "\n"
     ]
    }
   ],
   "source": [
    "test()\n",
    "for epoch in range(1, n_epochs + 1):\n",
    "  train(epoch)\n",
    "  test()"
   ]
  },
  {
   "cell_type": "code",
   "execution_count": 16,
   "id": "d0dc0c81",
   "metadata": {},
   "outputs": [
    {
     "data": {
      "text/plain": [
       "[0, 60000, 120000, 180000]"
      ]
     },
     "execution_count": 16,
     "metadata": {},
     "output_type": "execute_result"
    }
   ],
   "source": [
    "test_counter"
   ]
  },
  {
   "cell_type": "code",
   "execution_count": 17,
   "id": "9ae2dc45",
   "metadata": {},
   "outputs": [
    {
     "data": {
      "text/plain": [
       "[2.30958232421875,\n",
       " 2.308372119140625,\n",
       " 0.185310205078125,\n",
       " 0.11868454360961914,\n",
       " 0.09693126678466797]"
      ]
     },
     "execution_count": 17,
     "metadata": {},
     "output_type": "execute_result"
    }
   ],
   "source": [
    "test_losses"
   ]
  },
  {
   "cell_type": "code",
   "execution_count": 18,
   "id": "3297394c",
   "metadata": {
    "scrolled": false
   },
   "outputs": [
    {
     "ename": "ValueError",
     "evalue": "x and y must be the same size",
     "output_type": "error",
     "traceback": [
      "\u001b[1;31m---------------------------------------------------------------------------\u001b[0m",
      "\u001b[1;31mValueError\u001b[0m                                Traceback (most recent call last)",
      "Input \u001b[1;32mIn [18]\u001b[0m, in \u001b[0;36m<cell line: 3>\u001b[1;34m()\u001b[0m\n\u001b[0;32m      1\u001b[0m fig \u001b[38;5;241m=\u001b[39m plt\u001b[38;5;241m.\u001b[39mfigure()\n\u001b[0;32m      2\u001b[0m plt\u001b[38;5;241m.\u001b[39mplot(train_counter, train_losses, color\u001b[38;5;241m=\u001b[39m\u001b[38;5;124m'\u001b[39m\u001b[38;5;124mblue\u001b[39m\u001b[38;5;124m'\u001b[39m)\n\u001b[1;32m----> 3\u001b[0m \u001b[43mplt\u001b[49m\u001b[38;5;241;43m.\u001b[39;49m\u001b[43mscatter\u001b[49m\u001b[43m(\u001b[49m\u001b[43mtest_counter\u001b[49m\u001b[43m,\u001b[49m\u001b[43m \u001b[49m\u001b[43mtest_losses\u001b[49m\u001b[43m,\u001b[49m\u001b[43m \u001b[49m\u001b[43mcolor\u001b[49m\u001b[38;5;241;43m=\u001b[39;49m\u001b[38;5;124;43m'\u001b[39;49m\u001b[38;5;124;43mred\u001b[39;49m\u001b[38;5;124;43m'\u001b[39;49m\u001b[43m)\u001b[49m\n\u001b[0;32m      4\u001b[0m plt\u001b[38;5;241m.\u001b[39mlegend([\u001b[38;5;124m'\u001b[39m\u001b[38;5;124mTrain Loss\u001b[39m\u001b[38;5;124m'\u001b[39m, \u001b[38;5;124m'\u001b[39m\u001b[38;5;124mTest Loss\u001b[39m\u001b[38;5;124m'\u001b[39m], loc\u001b[38;5;241m=\u001b[39m\u001b[38;5;124m'\u001b[39m\u001b[38;5;124mupper right\u001b[39m\u001b[38;5;124m'\u001b[39m)\n\u001b[0;32m      5\u001b[0m plt\u001b[38;5;241m.\u001b[39mxlabel(\u001b[38;5;124m'\u001b[39m\u001b[38;5;124mnumber of training examples seen\u001b[39m\u001b[38;5;124m'\u001b[39m)\n",
      "File \u001b[1;32m~\\miniconda3\\lib\\site-packages\\matplotlib\\pyplot.py:2807\u001b[0m, in \u001b[0;36mscatter\u001b[1;34m(x, y, s, c, marker, cmap, norm, vmin, vmax, alpha, linewidths, edgecolors, plotnonfinite, data, **kwargs)\u001b[0m\n\u001b[0;32m   2802\u001b[0m \u001b[38;5;129m@_copy_docstring_and_deprecators\u001b[39m(Axes\u001b[38;5;241m.\u001b[39mscatter)\n\u001b[0;32m   2803\u001b[0m \u001b[38;5;28;01mdef\u001b[39;00m \u001b[38;5;21mscatter\u001b[39m(\n\u001b[0;32m   2804\u001b[0m         x, y, s\u001b[38;5;241m=\u001b[39m\u001b[38;5;28;01mNone\u001b[39;00m, c\u001b[38;5;241m=\u001b[39m\u001b[38;5;28;01mNone\u001b[39;00m, marker\u001b[38;5;241m=\u001b[39m\u001b[38;5;28;01mNone\u001b[39;00m, cmap\u001b[38;5;241m=\u001b[39m\u001b[38;5;28;01mNone\u001b[39;00m, norm\u001b[38;5;241m=\u001b[39m\u001b[38;5;28;01mNone\u001b[39;00m,\n\u001b[0;32m   2805\u001b[0m         vmin\u001b[38;5;241m=\u001b[39m\u001b[38;5;28;01mNone\u001b[39;00m, vmax\u001b[38;5;241m=\u001b[39m\u001b[38;5;28;01mNone\u001b[39;00m, alpha\u001b[38;5;241m=\u001b[39m\u001b[38;5;28;01mNone\u001b[39;00m, linewidths\u001b[38;5;241m=\u001b[39m\u001b[38;5;28;01mNone\u001b[39;00m, \u001b[38;5;241m*\u001b[39m,\n\u001b[0;32m   2806\u001b[0m         edgecolors\u001b[38;5;241m=\u001b[39m\u001b[38;5;28;01mNone\u001b[39;00m, plotnonfinite\u001b[38;5;241m=\u001b[39m\u001b[38;5;28;01mFalse\u001b[39;00m, data\u001b[38;5;241m=\u001b[39m\u001b[38;5;28;01mNone\u001b[39;00m, \u001b[38;5;241m*\u001b[39m\u001b[38;5;241m*\u001b[39mkwargs):\n\u001b[1;32m-> 2807\u001b[0m     __ret \u001b[38;5;241m=\u001b[39m gca()\u001b[38;5;241m.\u001b[39mscatter(\n\u001b[0;32m   2808\u001b[0m         x, y, s\u001b[38;5;241m=\u001b[39ms, c\u001b[38;5;241m=\u001b[39mc, marker\u001b[38;5;241m=\u001b[39mmarker, cmap\u001b[38;5;241m=\u001b[39mcmap, norm\u001b[38;5;241m=\u001b[39mnorm,\n\u001b[0;32m   2809\u001b[0m         vmin\u001b[38;5;241m=\u001b[39mvmin, vmax\u001b[38;5;241m=\u001b[39mvmax, alpha\u001b[38;5;241m=\u001b[39malpha, linewidths\u001b[38;5;241m=\u001b[39mlinewidths,\n\u001b[0;32m   2810\u001b[0m         edgecolors\u001b[38;5;241m=\u001b[39medgecolors, plotnonfinite\u001b[38;5;241m=\u001b[39mplotnonfinite,\n\u001b[0;32m   2811\u001b[0m         \u001b[38;5;241m*\u001b[39m\u001b[38;5;241m*\u001b[39m({\u001b[38;5;124m\"\u001b[39m\u001b[38;5;124mdata\u001b[39m\u001b[38;5;124m\"\u001b[39m: data} \u001b[38;5;28;01mif\u001b[39;00m data \u001b[38;5;129;01mis\u001b[39;00m \u001b[38;5;129;01mnot\u001b[39;00m \u001b[38;5;28;01mNone\u001b[39;00m \u001b[38;5;28;01melse\u001b[39;00m {}), \u001b[38;5;241m*\u001b[39m\u001b[38;5;241m*\u001b[39mkwargs)\n\u001b[0;32m   2812\u001b[0m     sci(__ret)\n\u001b[0;32m   2813\u001b[0m     \u001b[38;5;28;01mreturn\u001b[39;00m __ret\n",
      "File \u001b[1;32m~\\miniconda3\\lib\\site-packages\\matplotlib\\__init__.py:1412\u001b[0m, in \u001b[0;36m_preprocess_data.<locals>.inner\u001b[1;34m(ax, data, *args, **kwargs)\u001b[0m\n\u001b[0;32m   1409\u001b[0m \u001b[38;5;129m@functools\u001b[39m\u001b[38;5;241m.\u001b[39mwraps(func)\n\u001b[0;32m   1410\u001b[0m \u001b[38;5;28;01mdef\u001b[39;00m \u001b[38;5;21minner\u001b[39m(ax, \u001b[38;5;241m*\u001b[39margs, data\u001b[38;5;241m=\u001b[39m\u001b[38;5;28;01mNone\u001b[39;00m, \u001b[38;5;241m*\u001b[39m\u001b[38;5;241m*\u001b[39mkwargs):\n\u001b[0;32m   1411\u001b[0m     \u001b[38;5;28;01mif\u001b[39;00m data \u001b[38;5;129;01mis\u001b[39;00m \u001b[38;5;28;01mNone\u001b[39;00m:\n\u001b[1;32m-> 1412\u001b[0m         \u001b[38;5;28;01mreturn\u001b[39;00m func(ax, \u001b[38;5;241m*\u001b[39m\u001b[38;5;28mmap\u001b[39m(sanitize_sequence, args), \u001b[38;5;241m*\u001b[39m\u001b[38;5;241m*\u001b[39mkwargs)\n\u001b[0;32m   1414\u001b[0m     bound \u001b[38;5;241m=\u001b[39m new_sig\u001b[38;5;241m.\u001b[39mbind(ax, \u001b[38;5;241m*\u001b[39margs, \u001b[38;5;241m*\u001b[39m\u001b[38;5;241m*\u001b[39mkwargs)\n\u001b[0;32m   1415\u001b[0m     auto_label \u001b[38;5;241m=\u001b[39m (bound\u001b[38;5;241m.\u001b[39marguments\u001b[38;5;241m.\u001b[39mget(label_namer)\n\u001b[0;32m   1416\u001b[0m                   \u001b[38;5;129;01mor\u001b[39;00m bound\u001b[38;5;241m.\u001b[39mkwargs\u001b[38;5;241m.\u001b[39mget(label_namer))\n",
      "File \u001b[1;32m~\\miniconda3\\lib\\site-packages\\matplotlib\\axes\\_axes.py:4369\u001b[0m, in \u001b[0;36mAxes.scatter\u001b[1;34m(self, x, y, s, c, marker, cmap, norm, vmin, vmax, alpha, linewidths, edgecolors, plotnonfinite, **kwargs)\u001b[0m\n\u001b[0;32m   4367\u001b[0m y \u001b[38;5;241m=\u001b[39m np\u001b[38;5;241m.\u001b[39mma\u001b[38;5;241m.\u001b[39mravel(y)\n\u001b[0;32m   4368\u001b[0m \u001b[38;5;28;01mif\u001b[39;00m x\u001b[38;5;241m.\u001b[39msize \u001b[38;5;241m!=\u001b[39m y\u001b[38;5;241m.\u001b[39msize:\n\u001b[1;32m-> 4369\u001b[0m     \u001b[38;5;28;01mraise\u001b[39;00m \u001b[38;5;167;01mValueError\u001b[39;00m(\u001b[38;5;124m\"\u001b[39m\u001b[38;5;124mx and y must be the same size\u001b[39m\u001b[38;5;124m\"\u001b[39m)\n\u001b[0;32m   4371\u001b[0m \u001b[38;5;28;01mif\u001b[39;00m s \u001b[38;5;129;01mis\u001b[39;00m \u001b[38;5;28;01mNone\u001b[39;00m:\n\u001b[0;32m   4372\u001b[0m     s \u001b[38;5;241m=\u001b[39m (\u001b[38;5;241m20\u001b[39m \u001b[38;5;28;01mif\u001b[39;00m rcParams[\u001b[38;5;124m'\u001b[39m\u001b[38;5;124m_internal.classic_mode\u001b[39m\u001b[38;5;124m'\u001b[39m] \u001b[38;5;28;01melse\u001b[39;00m\n\u001b[0;32m   4373\u001b[0m          rcParams[\u001b[38;5;124m'\u001b[39m\u001b[38;5;124mlines.markersize\u001b[39m\u001b[38;5;124m'\u001b[39m] \u001b[38;5;241m*\u001b[39m\u001b[38;5;241m*\u001b[39m \u001b[38;5;241m2.0\u001b[39m)\n",
      "\u001b[1;31mValueError\u001b[0m: x and y must be the same size"
     ]
    },
    {
     "data": {
      "image/png": "[encoded data removed]",
      "text/plain": [
       "<Figure size 432x288 with 1 Axes>"
      ]
     },
     "metadata": {
      "needs_background": "light"
     },
     "output_type": "display_data"
    }
   ],
   "source": [
    "fig = plt.figure()\n",
    "plt.plot(train_counter, train_losses, color='blue')\n",
    "plt.scatter(test_counter, test_losses, color='red')\n",
    "plt.legend(['Train Loss', 'Test Loss'], loc='upper right')\n",
    "plt.xlabel('number of training examples seen')\n",
    "plt.ylabel('negative log likelihood loss')\n",
    "fig"
   ]
  },
  {
   "cell_type": "code",
   "execution_count": 19,
   "id": "d7696d84",
   "metadata": {},
   "outputs": [
    {
     "name": "stderr",
     "output_type": "stream",
     "text": [
      "C:\\Users\\84592\\AppData\\Local\\Temp\\ipykernel_13788\\161431047.py:17: UserWarning: Implicit dimension choice for log_softmax has been deprecated. Change the call to include dim=X as an argument.\n",
      "  return F.log_softmax(x)\n"
     ]
    }
   ],
   "source": [
    "with torch.no_grad():\n",
    "  output = network(example_data)"
   ]
  },
  {
   "cell_type": "code",
   "execution_count": 20,
   "id": "2814407a",
   "metadata": {},
   "outputs": [
    {
     "data": {
      "image/png": "[encoded data removed]",
      "text/plain": [
       "<Figure size 432x288 with 6 Axes>"
      ]
     },
     "execution_count": 20,
     "metadata": {},
     "output_type": "execute_result"
    },
    {
     "data": {
      "image/png": "[encoded data removed]",
      "text/plain": [
       "<Figure size 432x288 with 6 Axes>"
      ]
     },
     "metadata": {},
     "output_type": "display_data"
    }
   ],
   "source": [
    "fig = plt.figure()\n",
    "for i in range(6):\n",
    "  plt.subplot(2,3,i+1)\n",
    "  plt.tight_layout()\n",
    "  plt.imshow(example_data[i][0], cmap='gray', interpolation='none')\n",
    "  plt.title(\"Prediction: {}\".format(\n",
    "    output.data.max(1, keepdim=True)[1][i].item()))\n",
    "  plt.xticks([])\n",
    "  plt.yticks([])\n",
    "fig"
   ]
  }
 ],
 "metadata": {
  "kernelspec": {
   "display_name": "Python 3 (ipykernel)",
   "language": "python",
   "name": "python3"
  },
  "language_info": {
   "codemirror_mode": {
    "name": "ipython",
    "version": 3
   },
   "file_extension": ".py",
   "mimetype": "text/x-python",
   "name": "python",
   "nbconvert_exporter": "python",
   "pygments_lexer": "ipython3",
   "version": "3.9.7"
  }
 },
 "nbformat": 4,
 "nbformat_minor": 5
}
